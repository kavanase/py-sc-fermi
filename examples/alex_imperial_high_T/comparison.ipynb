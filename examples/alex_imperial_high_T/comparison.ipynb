{
 "cells": [
  {
   "cell_type": "code",
   "execution_count": 1,
   "metadata": {},
   "outputs": [
    {
     "name": "stdout",
     "output_type": "stream",
     "text": [
      "**************************************************************\n",
      "\n",
      "   SSSS    CCCC      FFFFFF  EEEEEE   RRRR   MM     MM  IIIII\n",
      "  SS   S  CC   C     FF      EE      RR   R  MMM   MMM    I\n",
      "  SS      CC         FF      EE      RR  R   M MM MM M    I\n",
      "   SSSS   CC     --- FFFFFF  EEEEEE  RRRR    M  MMM  M    I\n",
      "      SS  CC         FF      EE      R   R   M   M   M    I\n",
      "  S   SS  CC   C     FF      EE      R   RR  M   M   M    I\n",
      "   SSSS    CCCC      FF      EEEEEE  R   RR  M   M   M  IIIII\n",
      "\n",
      "Energies in eV, temperature in Kelvin, DOS in states/unit cell\n",
      "\n",
      "------\n",
      "j.buckeridge@ucl.ac.uk 2018\n",
      "**************************************************************\n",
      "\n",
      "unitcell.dat found...\n",
      "(Should be cell for which DOS was determined!)\n",
      " \n",
      "Volume of cell:  ****************** A^3\n",
      " \n",
      "Found spin polarised system...\n",
      " \n",
      "Number of electrons in system:     544.000000\n",
      "         Energy gap of system:       5.904000 eV\n",
      "                 Temperature :    1500.000000 K\n",
      "     Number of defect species:     2\n",
      " \n",
      "Defects found:\n",
      "Name  # charge states  # sites in unit cell\n",
      "v_Li                2                     3\n",
      "Li_i                2                     1\n",
      " \n",
      "Integration of DOS up to Fermi level:   542.862403995001841\n",
      "Renormalised integrated DOS         :   544.000000000000114\n",
      " \n",
      "Solution found!\n",
      " \n",
      "Condition (n + acceptors) - (p + donors):   0.8346718839638E+007  cm^-3\n",
      " \n",
      "Results:\n",
      "--------\n",
      "SC Fermi level :       3.0785979224349  (eV)\n",
      " \n",
      "Concentrations:\n",
      "n (electrons)  :   0.4760319451592E+012  cm^-3\n",
      "p (holes)      :   0.4530172681743E+012  cm^-3\n",
      "v_Li           :   0.3168695543866E+020  cm^-3\n",
      "Li_i           :   0.3168695557495E+020  cm^-3\n",
      " \n",
      "Breakdown of concentrations for each defect charge state:\n",
      "--------------------------------------------------------\n",
      "v_Li           :   Charge   Concentration(cm^-3) % total\n",
      "               :     0.0     0.1255889559902E+012    0.00\n",
      "               :    -1.0     0.3168695531307E+020  100.00\n",
      "--------------------------------------------------------\n",
      "Li_i           :   Charge   Concentration(cm^-3) % total\n",
      "               :     0.0     0.2388745705797E+012    0.00\n",
      "               :     1.0     0.3168695533608E+020  100.00\n",
      "\n"
     ]
    }
   ],
   "source": [
    "# %%timeit\n",
    "import os\n",
    "sc_fermi_exec = '/Users/bjm42/source/sc-fermi/upload-sourceforge/sc-fermi'\n",
    "print(os.popen(sc_fermi_exec).read())"
   ]
  },
  {
   "cell_type": "code",
   "execution_count": 2,
   "metadata": {},
   "outputs": [
    {
     "name": "stdout",
     "output_type": "stream",
     "text": [
      "Found spin polarised system...\n",
      "Number of electrons in system: 544\n",
      "Energy gap of system: 5.904 eV\n",
      "Temperature: 1500.0 K\n",
      "Number of defect species: 2\n",
      "Volume of cell: 1056.622886347127 A^3\n",
      "Reading spin-polarised DOS\n",
      "Integration of DOS up to Fermi level: 542.8624039950018\n",
      "Renormalised integrated DOS        : 544.0\n",
      "DefectSystem\n",
      "  nelect: 544 e\n",
      "  egap:   5.904 eV\n",
      "  volume: 1056.622886347127 A^3\n",
      "  temperature: 1500.0 K\n",
      "\n",
      "Contains defect species:\n",
      "\n",
      "v_Li, nsites=3\n",
      "  q=+0.0, e=3.17135738000001, deg=2\n",
      "  q=-1.0, e=3.659671988940586, deg=1\n",
      "\n",
      "Li_i, nsites=1\n",
      "  q=+0.0, e=2.9462461100000685, deg=2\n",
      "  q=+1.0, e=-2.6395306397551033, deg=1\n",
      "\n"
     ]
    },
    {
     "data": {
      "text/plain": [
       "3.0785979224348923"
      ]
     },
     "execution_count": 2,
     "metadata": {},
     "output_type": "execute_result"
    }
   ],
   "source": [
    "# %%timeit\n",
    "\n",
    "from pymatgen.io.vasp import Poscar\n",
    "from py_sc_fermi.inputs import read_input_data, read_dos_data, read_unitcell_data\n",
    "from py_sc_fermi.defect_system import DefectSystem\n",
    "from py_sc_fermi.dos import DOS\n",
    "\n",
    "# volume = Poscar.from_file('POSCAR').structure.volume\n",
    "inputs = read_input_data(filename='./input-fermi.dat')\n",
    "volume = read_unitcell_data(filename='./unitcell.dat')\n",
    "dos = read_dos_data('./totdos.dat', nelect=inputs['nelect'], egap=inputs['egap'])\n",
    "ds = DefectSystem(defect_species=inputs['defect_species'],\n",
    "                  dos=dos, \n",
    "                  temperature=inputs['temperature'], \n",
    "                  volume=volume)\n",
    "print(ds)\n",
    "ds.get_sc_fermi(verbose=False)\n"
   ]
  },
  {
   "cell_type": "code",
   "execution_count": 3,
   "metadata": {},
   "outputs": [
    {
     "data": {
      "text/plain": [
       "3.0785979224348923"
      ]
     },
     "execution_count": 3,
     "metadata": {},
     "output_type": "execute_result"
    }
   ],
   "source": [
    "# %%timeit\n",
    "ds.get_sc_fermi(verbose=False, emin=0.0)"
   ]
  },
  {
   "cell_type": "code",
   "execution_count": 4,
   "metadata": {},
   "outputs": [
    {
     "data": {
      "text/plain": [
       "{'e_fermi': 3.0785979224348923,\n",
       " 'n_iter': 99,\n",
       " 'bracket': [3.078597922434892, 3.0785979224348923]}"
      ]
     },
     "execution_count": 4,
     "metadata": {},
     "output_type": "execute_result"
    }
   ],
   "source": [
    "ds.get_sc_fermi_new(verbose=False, emin=0.0)"
   ]
  },
  {
   "cell_type": "code",
   "execution_count": 5,
   "metadata": {},
   "outputs": [
    {
     "name": "stdout",
     "output_type": "stream",
     "text": [
      "SC Fermi level :      3.0785979224348923  (eV)\n",
      "\n",
      "Concentrations:\n",
      "n (electrons)  : 476031945159.1502 cm^-3\n",
      "p (holes)      : 453017268174.3595 cm^-3\n",
      "v_Li           : 3.1686955438653497e+19 cm^-3\n",
      "Li_i           : 3.168695557495372e+19 cm^-3\n",
      "\n",
      "Breakdown of concentrations for each defect charge state:\n",
      "---------------------------------------------------------\n",
      "v_Li       : Charge Concentration(cm^-3) Total\n",
      "           :  0.0  1.255890e+11          0.00 \n",
      "           : -1.0  3.168696e+19          100.00 \n",
      "---------------------------------------------------------\n",
      "Li_i       : Charge Concentration(cm^-3) Total\n",
      "           :  0.0  2.388746e+11          0.00 \n",
      "           :  1.0  3.168696e+19          100.00 \n"
     ]
    }
   ],
   "source": [
    "ds.report()"
   ]
  },
  {
   "cell_type": "code",
   "execution_count": 5,
   "metadata": {},
   "outputs": [],
   "source": [
    "c_v_Li = ds.defect_species_by_name('v_Li').get_concentration(e_fermi=3.378797377976006, temperature=ds.temperature)"
   ]
  },
  {
   "cell_type": "code",
   "execution_count": 6,
   "metadata": {},
   "outputs": [],
   "source": [
    "c_Li_i = ds.defect_species_by_name('Li_i').get_concentration(e_fermi=3.378797377976006, temperature=ds.temperature)"
   ]
  },
  {
   "cell_type": "code",
   "execution_count": 7,
   "metadata": {},
   "outputs": [
    {
     "data": {
      "text/plain": [
       "-9.020562075079397e-17"
      ]
     },
     "execution_count": 7,
     "metadata": {},
     "output_type": "execute_result"
    }
   ],
   "source": [
    "(c_v_Li - c_Li_i)"
   ]
  },
  {
   "cell_type": "code",
   "execution_count": 8,
   "metadata": {},
   "outputs": [
    {
     "name": "stdout",
     "output_type": "stream",
     "text": [
      "     fun: 3.0159137062724106e-09\n",
      " message: 'Solution found.'\n",
      "    nfev: 39\n",
      "  status: 0\n",
      " success: True\n",
      "       x: 3.3787971647280033\n"
     ]
    },
    {
     "data": {
      "text/plain": [
       "3.3787971647280033"
      ]
     },
     "execution_count": 8,
     "metadata": {},
     "output_type": "execute_result"
    }
   ],
   "source": [
    "ds.get_sc_fermi()"
   ]
  },
  {
   "cell_type": "code",
   "execution_count": 9,
   "metadata": {},
   "outputs": [
    {
     "name": "stderr",
     "output_type": "stream",
     "text": [
      "/Users/bjm42/source/py-sc-fermi/py_sc_fermi/dos.py:89: RuntimeWarning: overflow encountered in exp\n",
      "  return dos / (1.0 + np.exp((edos - e_fermi)/kT))\n"
     ]
    },
    {
     "data": {
      "text/plain": [
       "3.096792116700261"
      ]
     },
     "execution_count": 9,
     "metadata": {},
     "output_type": "execute_result"
    }
   ],
   "source": [
    "ds.get_constrained_sc_fermi(constraint={'v_Li': +1, 'Li_i': -1}, total=-0.3)"
   ]
  },
  {
   "cell_type": "code",
   "execution_count": null,
   "metadata": {},
   "outputs": [],
   "source": []
  }
 ],
 "metadata": {
  "kernelspec": {
   "display_name": "Python 3",
   "language": "python",
   "name": "python3"
  },
  "language_info": {
   "codemirror_mode": {
    "name": "ipython",
    "version": 3
   },
   "file_extension": ".py",
   "mimetype": "text/x-python",
   "name": "python",
   "nbconvert_exporter": "python",
   "pygments_lexer": "ipython3",
   "version": "3.7.0"
  }
 },
 "nbformat": 4,
 "nbformat_minor": 2
}

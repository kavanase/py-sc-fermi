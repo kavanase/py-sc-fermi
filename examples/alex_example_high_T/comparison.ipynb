{
 "cells": [
  {
   "cell_type": "code",
   "execution_count": 1,
   "metadata": {},
   "outputs": [
    {
     "name": "stdout",
     "output_type": "stream",
     "text": [
      "**************************************************************\n",
      "\n",
      "   SSSS    CCCC      FFFFFF  EEEEEE   RRRR   MM     MM  IIIII\n",
      "  SS   S  CC   C     FF      EE      RR   R  MMM   MMM    I\n",
      "  SS      CC         FF      EE      RR  R   M MM MM M    I\n",
      "   SSSS   CC     --- FFFFFF  EEEEEE  RRRR    M  MMM  M    I\n",
      "      SS  CC         FF      EE      R   R   M   M   M    I\n",
      "  S   SS  CC   C     FF      EE      R   RR  M   M   M    I\n",
      "   SSSS    CCCC      FF      EEEEEE  R   RR  M   M   M  IIIII\n",
      "\n",
      "Energies in eV, temperature in Kelvin, DOS in states/unit cell\n",
      "\n",
      "------\n",
      "j.buckeridge@ucl.ac.uk 2018\n",
      "**************************************************************\n",
      "\n",
      "unitcell.dat found...\n",
      "(Should be cell for which DOS was determined!)\n",
      " \n",
      "Volume of cell:  ****************** A^3\n",
      " \n",
      "Found spin polarised system...\n",
      " \n",
      "Number of electrons in system:     544.000000\n",
      "         Energy gap of system:       5.904000 eV\n",
      "                 Temperature :    1500.000000 K\n",
      "     Number of defect species:    14\n",
      " \n",
      "Defects found:\n",
      "Name  # charge states  # sites in unit cell\n",
      "v_O                 3                     3\n",
      "v_Li                2                     3\n",
      "Li_i                2                     1\n",
      "O_i                 2                     1\n",
      "v_La                1                     2\n",
      "v_Zr                1                     1\n",
      "Zr_i                5                     1\n",
      "Zr_Li_tet           4                     1\n",
      "Zr_Li               4                     2\n",
      "Zr_La               2                     2\n",
      "La_Zr               2                     2\n",
      "Li_La               3                     2\n",
      "Li_Zr               4                     1\n",
      "La_Li               3                     3\n",
      " \n",
      "Integration of DOS up to Fermi level:   542.862403995001841\n",
      "Renormalised integrated DOS         :   544.000000000000114\n",
      " \n",
      "Solution found!\n",
      " \n",
      "Condition (n + acceptors) - (p + donors):   0.3940229192591E+007  cm^-3\n",
      " \n",
      "Results:\n",
      "--------\n",
      "SC Fermi level :       3.0786931834548  (eV)\n",
      " \n",
      "Concentrations:\n",
      "n (electrons)  :   0.4763828963555E+012  cm^-3\n",
      "p (holes)      :   0.4526835304321E+012  cm^-3\n",
      "v_O            :   0.9295249419371E+014  cm^-3\n",
      "v_Li           :   0.3171031642312E+020  cm^-3\n",
      "Li_i           :   0.3166361180050E+020  cm^-3\n",
      "O_i            :   0.6834829426406E+007  cm^-3\n",
      "v_La           :   0.1206654333151E+012  cm^-3\n",
      "v_Zr           :   0.2469351026174E+005  cm^-3\n",
      "Zr_i           :   0.8930175096140E+010  cm^-3\n",
      "Zr_Li_tet      :   0.7731764760835E+011  cm^-3\n",
      "Zr_Li          :   0.1389734532045E+017  cm^-3\n",
      "Zr_La          :   0.1055103489902E+017  cm^-3\n",
      "La_Zr          :   0.2613235642324E+015  cm^-3\n",
      "Li_La          :   0.2343728568728E+016  cm^-3\n",
      "Li_Zr          :   0.2586581809831E+015  cm^-3\n",
      "La_Li          :   0.2865370786674E+013  cm^-3\n",
      " \n",
      "Breakdown of concentrations for each defect charge state:\n",
      "--------------------------------------------------------\n",
      "v_O            :   Charge   Concentration(cm^-3) % total\n",
      "               :     2.0     0.8809414283977E+014   94.77\n",
      "               :     1.0     0.4858270121831E+013    5.23\n",
      "               :     0.0     0.8123210897429E+008    0.00\n",
      "--------------------------------------------------------\n",
      "v_Li           :   Charge   Concentration(cm^-3) % total\n",
      "               :     0.0     0.1255889559902E+012    0.00\n",
      "               :    -1.0     0.3171031629753E+020  100.00\n",
      "--------------------------------------------------------\n",
      "Li_i           :   Charge   Concentration(cm^-3) % total\n",
      "               :     0.0     0.2388745705797E+012    0.00\n",
      "               :     1.0     0.3166361156162E+020  100.00\n",
      "--------------------------------------------------------\n",
      "O_i            :   Charge   Concentration(cm^-3) % total\n",
      "               :     0.0     0.6834829416309E+007  100.00\n",
      "               :    -1.0     0.1009696790086E-001    0.00\n",
      "--------------------------------------------------------\n",
      "v_La           :   Charge   Concentration(cm^-3) % total\n",
      "               :    -3.0     0.1206654333151E+012  100.00\n",
      "--------------------------------------------------------\n",
      "v_Zr           :   Charge   Concentration(cm^-3) % total\n",
      "               :    -4.0     0.2469351026174E+005  100.00\n",
      "--------------------------------------------------------\n",
      "Zr_i           :   Charge   Concentration(cm^-3) % total\n",
      "               :     0.0     0.7177914227703E-017    0.00\n",
      "               :     1.0     0.2150873104437E-010    0.00\n",
      "               :     2.0     0.6541318697141E+001    0.00\n",
      "               :     3.0     0.1428870262158E+007    0.02\n",
      "               :     4.0     0.8928746219337E+010   99.98\n",
      "--------------------------------------------------------\n",
      "Zr_Li_tet      :   Charge   Concentration(cm^-3) % total\n",
      "               :     0.0     0.2879829966709E-004    0.00\n",
      "               :     1.0     0.2611547754465E+002    0.00\n",
      "               :     2.0     0.7731764758224E+011  100.00\n",
      "               :     3.0     0.2004573728999E-044    0.00\n",
      "--------------------------------------------------------\n",
      "Zr_Li          :   Charge   Concentration(cm^-3) % total\n",
      "               :     0.0     0.9116187539077E-001    0.00\n",
      "               :     1.0     0.3374908408409E+006    0.00\n",
      "               :     2.0     0.1548127245992E+012    0.00\n",
      "               :     3.0     0.1389719050739E+017  100.00\n",
      "--------------------------------------------------------\n",
      "Zr_La          :   Charge   Concentration(cm^-3) % total\n",
      "               :     0.0     0.7488912500856E+010    0.00\n",
      "               :     1.0     0.1055102741011E+017  100.00\n",
      "--------------------------------------------------------\n",
      "La_Zr          :   Charge   Concentration(cm^-3) % total\n",
      "               :     0.0     0.2371506578732E+009    0.00\n",
      "               :    -1.0     0.2613233270817E+015  100.00\n",
      "--------------------------------------------------------\n",
      "Li_La          :   Charge   Concentration(cm^-3) % total\n",
      "               :     0.0     0.2420396528187E-001    0.00\n",
      "               :    -1.0     0.4857237392292E+008    0.00\n",
      "               :    -2.0     0.2343728520156E+016  100.00\n",
      "--------------------------------------------------------\n",
      "Li_Zr          :   Charge   Concentration(cm^-3) % total\n",
      "               :     0.0     0.7905191273160E-008    0.00\n",
      "               :    -1.0     0.1705475900826E+002    0.00\n",
      "               :    -2.0     0.3508489492781E+009    0.00\n",
      "               :    -3.0     0.2586578301342E+015  100.00\n",
      "--------------------------------------------------------\n",
      "La_Li          :   Charge   Concentration(cm^-3) % total\n",
      "               :     0.0     0.9736545370836E-001    0.00\n",
      "               :     1.0     0.1700259742307E+006    0.00\n",
      "               :     2.0     0.2865370616648E+013  100.00\n",
      "\n"
     ]
    }
   ],
   "source": [
    "# %%timeit\n",
    "import os\n",
    "sc_fermi_exec = '/Users/bjm42/source/sc-fermi/upload-sourceforge/sc-fermi'\n",
    "print(os.popen(sc_fermi_exec).read())"
   ]
  },
  {
   "cell_type": "code",
   "execution_count": 4,
   "metadata": {},
   "outputs": [],
   "source": [
    "read_input_data?"
   ]
  },
  {
   "cell_type": "code",
   "execution_count": 7,
   "metadata": {},
   "outputs": [
    {
     "name": "stdout",
     "output_type": "stream",
     "text": [
      "Found spin polarised system...\n",
      "Number of electrons in system: 544\n",
      "Energy gap of system: 5.904 eV\n",
      "Temperature: 1500.0 K\n",
      "Number of defect species: 14\n",
      "Volume of cell: 1056.622886347127 A^3\n",
      "Reading spin-polarised DOS\n",
      "Integration of DOS up to Fermi level: 542.8624039950018\n",
      "Renormalised integrated DOS        : 544.0\n",
      "DefectSystem\n",
      "  nelect: 544 e\n",
      "  egap:   5.904 eV\n",
      "  volume: 1056.622886347127 A^3\n",
      "  temperature: 1500.0 K\n",
      "\n",
      "Contains defect species:\n",
      "\n",
      "v_O, nsites=3\n",
      "  q=+2.0, e=-3.9226860242378474, deg=1\n",
      "  q=+1.0, e=-0.37983636105949087, deg=2\n",
      "  q=+0.0, e=4.0309776500000645, deg=1\n",
      "\n",
      "v_Li, nsites=3\n",
      "  q=+0.0, e=3.17135738000001, deg=2\n",
      "  q=-1.0, e=3.659671988940586, deg=1\n",
      "\n",
      "Li_i, nsites=1\n",
      "  q=+0.0, e=2.9462461100000685, deg=2\n",
      "  q=+1.0, e=-2.6395306397551033, deg=1\n",
      "\n",
      "O_i, nsites=1\n",
      "  q=+0.0, e=4.208925799999978, deg=1\n",
      "  q=-1.0, e=9.915873548940516, deg=1\n",
      "\n",
      "v_La, nsites=2\n",
      "  q=-3.0, e=12.270599598259025, deg=1\n",
      "\n",
      "v_Zr, nsites=1\n",
      "  q=-4.0, e=17.25056016913296, deg=1\n",
      "\n",
      "Zr_i, nsites=1\n",
      "  q=+0.0, e=11.345774575000064, deg=1\n",
      "  q=+1.0, e=6.339429933940599, deg=1\n",
      "  q=+2.0, e=-0.15699208807506906, deg=1\n",
      "  q=+3.0, e=-4.735246264535193, deg=2\n",
      "  q=+4.0, e=-9.03328844195141, deg=1\n",
      "\n",
      "Zr_Li_tet, nsites=1\n",
      "  q=+0.0, e=7.863391605000054, deg=8\n",
      "  q=+1.0, e=2.9219473351765237, deg=4\n",
      "  q=+2.0, e=-3.065332696657206, deg=2\n",
      "  q=+3.0, e=10.3106533863739, deg=1\n",
      "\n",
      "Zr_Li, nsites=2\n",
      "  q=+0.0, e=6.731948745000061, deg=2\n",
      "  q=+1.0, e=1.7878681586774454, deg=4\n",
      "  q=+2.0, e=-3.0654809254744086, deg=2\n",
      "  q=+3.0, e=-7.707979924427655, deg=1\n",
      "\n",
      "Zr_La, nsites=2\n",
      "  q=+0.0, e=3.483407607500034, deg=2\n",
      "  q=+1.0, e=-1.514987111006223, deg=1\n",
      "\n",
      "La_Zr, nsites=2\n",
      "  q=+0.0, e=3.9296760924999816, deg=2\n",
      "  q=-1.0, e=5.120431719335288, deg=1\n",
      "\n",
      "Li_La, nsites=2\n",
      "  q=+0.0, e=6.813766942500067, deg=1\n",
      "  q=-1.0, e=7.123733117032005, deg=1\n",
      "  q=-2.0, e=7.915561767392551, deg=1\n",
      "\n",
      "Li_Zr, nsites=1\n",
      "  q=+0.0, e=8.65460722500007, deg=1\n",
      "  q=-1.0, e=9.134411302829486, deg=4\n",
      "  q=-2.0, e=9.946840105206594, deg=2\n",
      "  q=-3.0, e=11.189547004353685, deg=1\n",
      "\n",
      "La_Li, nsites=3\n",
      "  q=+0.0, e=6.686253117500044, deg=1\n",
      "  q=+1.0, e=1.7497051225011813, deg=1\n",
      "  q=+2.0, e=-3.4798784667378357, deg=1\n",
      "\n"
     ]
    },
    {
     "data": {
      "text/plain": [
       "3.0786931834547966"
      ]
     },
     "execution_count": 7,
     "metadata": {},
     "output_type": "execute_result"
    }
   ],
   "source": [
    "# %%timeit\n",
    "\n",
    "from pymatgen.io.vasp import Poscar\n",
    "from py_sc_fermi.inputs import read_input_data, read_dos_data, read_unitcell_data\n",
    "from py_sc_fermi.defect_system import DefectSystem\n",
    "from py_sc_fermi.dos import DOS\n",
    "\n",
    "# volume = Poscar.from_file('POSCAR').structure.volume\n",
    "inputs = read_input_data(filename='./input-fermi.dat')\n",
    "volume = read_unitcell_data(filename='./unitcell.dat')\n",
    "dos = read_dos_data('./totdos.dat', nelect=inputs['nelect'], egap=inputs['egap'])\n",
    "ds = DefectSystem(defect_species=inputs['defect_species'],\n",
    "                  dos=dos, \n",
    "                  temperature=inputs['temperature'], \n",
    "                  volume=volume)\n",
    "print(ds)\n",
    "ds.get_sc_fermi(verbose=False)\n"
   ]
  },
  {
   "cell_type": "code",
   "execution_count": 8,
   "metadata": {},
   "outputs": [
    {
     "data": {
      "text/plain": [
       "3.0786931834547966"
      ]
     },
     "execution_count": 8,
     "metadata": {},
     "output_type": "execute_result"
    }
   ],
   "source": [
    "# %%timeit\n",
    "ds.get_sc_fermi(verbose=False, emin=0.0)"
   ]
  },
  {
   "cell_type": "code",
   "execution_count": 9,
   "metadata": {},
   "outputs": [
    {
     "name": "stderr",
     "output_type": "stream",
     "text": [
      "/Users/bjm42/source/py-sc-fermi/py_sc_fermi/defect_charge_state.py:79: RuntimeWarning: overflow encountered in exp\n",
      "  return self.degeneracy * np.exp(expfac)\n"
     ]
    },
    {
     "data": {
      "text/plain": [
       "{'e_fermi': 3.0786931834547966,\n",
       " 'n_iter': 99,\n",
       " 'bracket': [3.0786931834547966, 3.078693183454797]}"
      ]
     },
     "execution_count": 9,
     "metadata": {},
     "output_type": "execute_result"
    }
   ],
   "source": [
    "ds.get_sc_fermi_new(verbose=False, emin=0.0)"
   ]
  },
  {
   "cell_type": "code",
   "execution_count": 10,
   "metadata": {},
   "outputs": [
    {
     "name": "stdout",
     "output_type": "stream",
     "text": [
      "SC Fermi level :      3.0786931834547966  (eV)\n",
      "\n",
      "Concentrations:\n",
      "n (electrons)  : 476382896355.49304 cm^-3\n",
      "p (holes)      : 452683530432.1623 cm^-3\n",
      "v_O            : 92952494193721.56 cm^-3\n",
      "v_Li           : 3.1710316423121805e+19 cm^-3\n",
      "Li_i           : 3.1663611800501625e+19 cm^-3\n",
      "O_i            : 6834829.426406213 cm^-3\n",
      "v_La           : 120665433315.0827 cm^-3\n",
      "v_Zr           : 24693.51026173573 cm^-3\n",
      "Zr_i           : 8930175096.142653 cm^-3\n",
      "Zr_Li_tet      : 77317647608.3647 cm^-3\n",
      "Zr_Li          : 1.389734532045034e+16 cm^-3\n",
      "Zr_La          : 1.0551034899024156e+16 cm^-3\n",
      "La_Zr          : 261323564232390.22 cm^-3\n",
      "Li_La          : 2343728568727687.0 cm^-3\n",
      "Li_Zr          : 258658180983099.7 cm^-3\n",
      "La_Li          : 2865370786674.376 cm^-3\n",
      "\n",
      "Breakdown of concentrations for each defect charge state:\n",
      "---------------------------------------------------------\n",
      "v_O        : Charge Concentration(cm^-3) Total\n",
      "           :  2.0  8.809414e+13          94.77 \n",
      "           :  1.0  4.858270e+12          5.23 \n",
      "           :  0.0  8.123211e+07          0.00 \n",
      "---------------------------------------------------------\n",
      "v_Li       : Charge Concentration(cm^-3) Total\n",
      "           :  0.0  1.255890e+11          0.00 \n",
      "           : -1.0  3.171032e+19          100.00 \n",
      "---------------------------------------------------------\n",
      "Li_i       : Charge Concentration(cm^-3) Total\n",
      "           :  0.0  2.388746e+11          0.00 \n",
      "           :  1.0  3.166361e+19          100.00 \n",
      "---------------------------------------------------------\n",
      "O_i        : Charge Concentration(cm^-3) Total\n",
      "           :  0.0  6.834829e+06          100.00 \n",
      "           : -1.0  1.009697e-02          0.00 \n",
      "---------------------------------------------------------\n",
      "v_La       : Charge Concentration(cm^-3) Total\n",
      "           : -3.0  1.206654e+11          100.00 \n",
      "---------------------------------------------------------\n",
      "v_Zr       : Charge Concentration(cm^-3) Total\n",
      "           : -4.0  2.469351e+04          100.00 \n",
      "---------------------------------------------------------\n",
      "Zr_i       : Charge Concentration(cm^-3) Total\n",
      "           :  0.0  7.177914e-18          0.00 \n",
      "           :  1.0  2.150873e-11          0.00 \n",
      "           :  2.0  6.541319e+00          0.00 \n",
      "           :  3.0  1.428870e+06          0.02 \n",
      "           :  4.0  8.928746e+09          99.98 \n",
      "---------------------------------------------------------\n",
      "Zr_Li_tet  : Charge Concentration(cm^-3) Total\n",
      "           :  0.0  2.879830e-05          0.00 \n",
      "           :  1.0  2.611548e+01          0.00 \n",
      "           :  2.0  7.731765e+10          100.00 \n",
      "           :  3.0  2.004574e-45          0.00 \n",
      "---------------------------------------------------------\n",
      "Zr_Li      : Charge Concentration(cm^-3) Total\n",
      "           :  0.0  9.116188e-02          0.00 \n",
      "           :  1.0  3.374908e+05          0.00 \n",
      "           :  2.0  1.548127e+11          0.00 \n",
      "           :  3.0  1.389719e+16          100.00 \n",
      "---------------------------------------------------------\n",
      "Zr_La      : Charge Concentration(cm^-3) Total\n",
      "           :  0.0  7.488913e+09          0.00 \n",
      "           :  1.0  1.055103e+16          100.00 \n",
      "---------------------------------------------------------\n",
      "La_Zr      : Charge Concentration(cm^-3) Total\n",
      "           :  0.0  2.371507e+08          0.00 \n",
      "           : -1.0  2.613233e+14          100.00 \n",
      "---------------------------------------------------------\n",
      "Li_La      : Charge Concentration(cm^-3) Total\n",
      "           :  0.0  2.420397e-02          0.00 \n",
      "           : -1.0  4.857237e+07          0.00 \n",
      "           : -2.0  2.343729e+15          100.00 \n",
      "---------------------------------------------------------\n",
      "Li_Zr      : Charge Concentration(cm^-3) Total\n",
      "           :  0.0  7.905191e-09          0.00 \n",
      "           : -1.0  1.705476e+01          0.00 \n",
      "           : -2.0  3.508489e+08          0.00 \n",
      "           : -3.0  2.586578e+14          100.00 \n",
      "---------------------------------------------------------\n",
      "La_Li      : Charge Concentration(cm^-3) Total\n",
      "           :  0.0  9.736545e-02          0.00 \n",
      "           :  1.0  1.700260e+05          0.00 \n",
      "           :  2.0  2.865371e+12          100.00 \n"
     ]
    }
   ],
   "source": [
    "ds.report()"
   ]
  },
  {
   "cell_type": "code",
   "execution_count": 5,
   "metadata": {},
   "outputs": [],
   "source": [
    "c_v_Li = ds.defect_species_by_name('v_Li').get_concentration(e_fermi=3.378797377976006, temperature=ds.temperature)"
   ]
  },
  {
   "cell_type": "code",
   "execution_count": 6,
   "metadata": {},
   "outputs": [],
   "source": [
    "c_Li_i = ds.defect_species_by_name('Li_i').get_concentration(e_fermi=3.378797377976006, temperature=ds.temperature)"
   ]
  },
  {
   "cell_type": "code",
   "execution_count": 7,
   "metadata": {},
   "outputs": [
    {
     "data": {
      "text/plain": [
       "-9.020562075079397e-17"
      ]
     },
     "execution_count": 7,
     "metadata": {},
     "output_type": "execute_result"
    }
   ],
   "source": [
    "(c_v_Li - c_Li_i)"
   ]
  },
  {
   "cell_type": "code",
   "execution_count": 8,
   "metadata": {},
   "outputs": [
    {
     "name": "stdout",
     "output_type": "stream",
     "text": [
      "     fun: 3.0159137062724106e-09\n",
      " message: 'Solution found.'\n",
      "    nfev: 39\n",
      "  status: 0\n",
      " success: True\n",
      "       x: 3.3787971647280033\n"
     ]
    },
    {
     "data": {
      "text/plain": [
       "3.3787971647280033"
      ]
     },
     "execution_count": 8,
     "metadata": {},
     "output_type": "execute_result"
    }
   ],
   "source": [
    "ds.get_sc_fermi()"
   ]
  },
  {
   "cell_type": "code",
   "execution_count": 9,
   "metadata": {},
   "outputs": [
    {
     "name": "stderr",
     "output_type": "stream",
     "text": [
      "/Users/bjm42/source/py-sc-fermi/py_sc_fermi/dos.py:89: RuntimeWarning: overflow encountered in exp\n",
      "  return dos / (1.0 + np.exp((edos - e_fermi)/kT))\n"
     ]
    },
    {
     "data": {
      "text/plain": [
       "3.096792116700261"
      ]
     },
     "execution_count": 9,
     "metadata": {},
     "output_type": "execute_result"
    }
   ],
   "source": [
    "ds.get_constrained_sc_fermi(constraint={'v_Li': +1, 'Li_i': -1}, total=-0.3)"
   ]
  },
  {
   "cell_type": "code",
   "execution_count": null,
   "metadata": {},
   "outputs": [],
   "source": []
  }
 ],
 "metadata": {
  "kernelspec": {
   "display_name": "Python 3",
   "language": "python",
   "name": "python3"
  },
  "language_info": {
   "codemirror_mode": {
    "name": "ipython",
    "version": 3
   },
   "file_extension": ".py",
   "mimetype": "text/x-python",
   "name": "python",
   "nbconvert_exporter": "python",
   "pygments_lexer": "ipython3",
   "version": "3.7.0"
  }
 },
 "nbformat": 4,
 "nbformat_minor": 2
}

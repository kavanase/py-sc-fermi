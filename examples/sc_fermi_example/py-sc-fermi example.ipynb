{
 "cells": [
  {
   "cell_type": "code",
   "execution_count": 1,
   "metadata": {},
   "outputs": [],
   "source": [
    "import re\n",
    "\n",
    "def parse_sc_fermi_output(output):\n",
    "    data = {}\n",
    "    regex = re.compile('SC Fermi level :\\s+([-\\d\\.]+)')\n",
    "    data['e_fermi'] = float(regex.findall(output)[0])\n",
    "    regex = re.compile('(\\w[()\\w\\s]+[\\w\\)])\\s+:\\s+([-+\\d.E]+)\\s+cm\\^-3')\n",
    "    data['defect species concentrations'] = {}\n",
    "    for name, conc in regex.findall(output):\n",
    "        data['defect species concentrations'][name] = float(conc)\n",
    "    divider = '-'*56 +'\\n'\n",
    "    data['defect species'] = {}\n",
    "    for defect_data in output.split(divider)[1:]:\n",
    "        split_defect_data = defect_data.split(':')\n",
    "        defect_species = split_defect_data[0].strip()\n",
    "        data[defect_species] = {}\n",
    "        for d in split_defect_data[2:]:\n",
    "            values = [ float(s) for s in d.split() ]\n",
    "            charge = values[0]\n",
    "            data[defect_species][charge] = {}\n",
    "            data[defect_species][charge]['concentration'] = values[1]\n",
    "            data[defect_species][charge]['percentage'] = values[2]\n",
    "    return data\n",
    "    "
   ]
  },
  {
   "cell_type": "code",
   "execution_count": 2,
   "metadata": {},
   "outputs": [],
   "source": [
    "import os\n",
    "# set the location of the `sc-fermi` executable\n",
    "sc_fermi_exec = '~/bin/sc-fermi'\n",
    "output = os.popen(sc_fermi_exec).read()\n",
    "print(output)\n",
    "sc_fermi_output = parse_sc_fermi_output(output)"
   ]
  },
  {
   "cell_type": "code",
   "execution_count": 3,
   "metadata": {},
   "outputs": [
    {
     "data": {
      "text/plain": [
       "{'e_fermi': -0.0322293767431,\n",
       " 'defect species concentrations': {'n (electrons)': 1.493687426674e-24,\n",
       "  'p (holes)': 1.898142087695e+19,\n",
       "  'V_Ga': 1.898142087693e+19,\n",
       "  'Ga_Sb': 1.24781971767e-85},\n",
       " 'defect species': {},\n",
       " 'V_Ga': {0.0: {'concentration': 1.024893014293e-101, 'percentage': 0.0},\n",
       "  -1.0: {'concentration': 1.898142087693e+19, 'percentage': 100.0},\n",
       "  -2.0: {'concentration': 5.142337688716e-100, 'percentage': 0.0},\n",
       "  -3.0: {'concentration': 3.594428781987e-120, 'percentage': 0.0}},\n",
       " 'Ga_Sb': {0.0: {'concentration': 1.236939790589e-92, 'percentage': 0.0},\n",
       "  -1.0: {'concentration': 1.247819593689e-85, 'percentage': 100.0},\n",
       "  -2.0: {'concentration': 2.874923404513e-95, 'percentage': 0.0}}}"
      ]
     },
     "execution_count": 3,
     "metadata": {},
     "output_type": "execute_result"
    }
   ],
   "source": [
    "sc_fermi_output"
   ]
  },
  {
   "cell_type": "code",
   "execution_count": 4,
   "metadata": {},
   "outputs": [],
   "source": [
    "# py-sc-fermi\n",
    "\n",
    "from py_sc_fermi.defect_system import DefectSystem\n",
    "from py_sc_fermi.defect_species import DefectSpecies\n",
    "from py_sc_fermi.inputs import inputs_from_files\n",
    "from py_sc_fermi.dos import DOS\n",
    "\n",
    "import numpy as np"
   ]
  },
  {
   "cell_type": "code",
   "execution_count": 5,
   "metadata": {},
   "outputs": [
    {
     "name": "stdout",
     "output_type": "stream",
     "text": [
      "Volume of cell: 57.78888409009906 A^3\n",
      "Found non-spin polarised system...\n",
      "Number of electrons in system: 18\n",
      "Energy gap of system: 0.8084 eV\n",
      "Temperature: 100.0 K\n",
      "Number of defect species: 2\n",
      "Reading non-spin-polarised DOS\n",
      "Integration of DOS up to Fermi level: 13.669507297419017\n",
      "Renormalised integrated DOS        : 18.0\n"
     ]
    }
   ],
   "source": [
    "example_dir = './'\n",
    "\n",
    "unitcell_filename = f'{example_dir}/unitcell.dat'\n",
    "totdos_filename = f'{example_dir}/totdos.dat'\n",
    "input_fermi_filename = f'{example_dir}/input-fermi.dat'\n",
    "\n",
    "inputs = inputs_from_files(unitcell_filename=unitcell_filename, \n",
    "                           input_fermi_filename=input_fermi_filename, \n",
    "                           totdos_filename=totdos_filename)"
   ]
  },
  {
   "cell_type": "code",
   "execution_count": 6,
   "metadata": {},
   "outputs": [
    {
     "name": "stdout",
     "output_type": "stream",
     "text": [
      "DefectSystem\n",
      "  nelect: 18 e\n",
      "  egap:   0.8084 eV\n",
      "  volume: 57.78888409009906 A^3\n",
      "  temperature: 100.0 K\n",
      "\n",
      "Contains defect species:\n",
      "\n",
      "V_Ga, nsites=1\n",
      "  q=+0.0, e=2.4451, deg=1\n",
      "  q=-1.0, e=0.0265, deg=1\n",
      "  q=-2.0, e=2.3469, deg=1\n",
      "  q=-3.0, e=2.7146, deg=1\n",
      "\n",
      "Ga_Sb, nsites=1\n",
      "  q=+0.0, e=2.2649, deg=1\n",
      "  q=-1.0, e=2.0937, deg=1\n",
      "  q=-2.0, e=2.2527, deg=1\n",
      "\n",
      "SC Fermi level :      -0.03222937674314075  (eV)\n",
      "\n",
      "Concentrations:\n",
      "n (electrons)  : 1.49368742667499e-24 cm^-3\n",
      "p (holes)      : 1.8981420876945424e+19 cm^-3\n",
      "V_Ga           : 1.8981420876946403e+19 cm^-3\n",
      "Ga_Sb          : 1.2478197176710676e-85 cm^-3\n",
      "\n",
      "Breakdown of concentrations for each defect charge state:\n",
      "---------------------------------------------------------\n",
      "V_Ga       : Charge Concentration(cm^-3) Total\n",
      "           :  0.0  1.024893e-101          0.00 \n",
      "           : -1.0  1.898142e+19          100.00 \n",
      "           : -2.0  5.142338e-100          0.00 \n",
      "           : -3.0  3.594429e-120          0.00 \n",
      "---------------------------------------------------------\n",
      "Ga_Sb      : Charge Concentration(cm^-3) Total\n",
      "           :  0.0  1.236940e-92          0.00 \n",
      "           : -1.0  1.247820e-85          100.00 \n",
      "           : -2.0  2.874923e-95          0.00 \n"
     ]
    },
    {
     "name": "stderr",
     "output_type": "stream",
     "text": [
      "/Users/bjm42/source/py-sc-fermi/py_sc_fermi/dos.py:84: RuntimeWarning: overflow encountered in exp\n",
      "  return dos / (1.0 + np.exp((e_fermi - edos)/kT))\n",
      "/Users/bjm42/source/py-sc-fermi/py_sc_fermi/dos.py:87: RuntimeWarning: overflow encountered in exp\n",
      "  return dos / (1.0 + np.exp((edos - e_fermi)/kT))\n"
     ]
    }
   ],
   "source": [
    "defect_system = DefectSystem( defect_species=inputs['defect_species'],\n",
    "                              volume=inputs['volume'],\n",
    "                              dos=inputs['dos'], # DOS object\n",
    "                              temperature=inputs['temperature'] )\n",
    "\n",
    "print(defect_system)\n",
    "\n",
    "defect_system.report()"
   ]
  },
  {
   "cell_type": "code",
   "execution_count": 7,
   "metadata": {},
   "outputs": [],
   "source": [
    "import numpy as np\n",
    "np.testing.assert_almost_equal(sc_fermi_output['e_fermi'], \n",
    "                               defect_system.get_sc_fermi(verbose=False),\n",
    "                               decimal=13)"
   ]
  },
  {
   "cell_type": "code",
   "execution_count": null,
   "metadata": {},
   "outputs": [],
   "source": []
  }
 ],
 "metadata": {
  "kernelspec": {
   "display_name": "Python 3",
   "language": "python",
   "name": "python3"
  },
  "language_info": {
   "codemirror_mode": {
    "name": "ipython",
    "version": 3
   },
   "file_extension": ".py",
   "mimetype": "text/x-python",
   "name": "python",
   "nbconvert_exporter": "python",
   "pygments_lexer": "ipython3",
   "version": "3.7.0"
  }
 },
 "nbformat": 4,
 "nbformat_minor": 2
}

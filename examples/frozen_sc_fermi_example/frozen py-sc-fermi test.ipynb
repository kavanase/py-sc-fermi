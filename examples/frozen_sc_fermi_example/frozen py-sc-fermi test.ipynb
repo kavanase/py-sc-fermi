{
 "cells": [
  {
   "cell_type": "code",
   "execution_count": 1,
   "metadata": {},
   "outputs": [
    {
     "name": "stdout",
     "output_type": "stream",
     "text": [
      "**************************************************************\n",
      "  (FROZEN)\n",
      "\n",
      "   SSSS    CCCC      FFFFFF  EEEEEE   RRRR   MM     MM  IIIII\n",
      "  SS   S  CC   C     FF      EE      RR   R  MMM   MMM    I\n",
      "  SS      CC         FF      EE      RR  R   M MM MM M    I\n",
      "   SSSS   CC     --- FFFFFF  EEEEEE  RRRR    M  MMM  M    I\n",
      "      SS  CC         FF      EE      R   R   M   M   M    I\n",
      "  S   SS  CC   C     FF      EE      R   RR  M   M   M    I\n",
      "   SSSS    CCCC      FF      EEEEEE  R   RR  M   M   M  IIIII\n",
      "\n",
      "\n",
      "Energies in eV, temperature in Kelvin, DOS in states/unit cell\n",
      "\n",
      "------\n",
      "j.buckeridge@ucl.ac.uk 2018\n",
      "**************************************************************\n",
      "\n",
      "unitcell.dat found...\n",
      "(Should be cell for which DOS was determined!)\n",
      " \n",
      "Volume of cell:      57.788884 A^3\n",
      " \n",
      "Found non-spin polarised system...\n",
      " \n",
      "Number of electrons in system:      18.000000\n",
      "         Energy gap of system:       0.808400 eV\n",
      "                 Temperature :     100.000000 K\n",
      "     Number of defect species:     2\n",
      " \n",
      "Defects found:\n",
      "Name  # charge states  # sites in unit cell\n",
      "V_Ga                4                     1\n",
      "Ga_Sb               3                     1\n",
      " \n",
      "Number of fixed concentration defect species:     1\n",
      "Number of fixed charged defect species:           2\n",
      " \n",
      "Frozen defects: (name)  (charge)   (concentration / cm^-3)\n",
      "                 V_Ga        all    0.3285677364522E+020\n",
      "                 V_Ga       -1.0    0.1900000000000E+019\n",
      "                 Ga_i        1.0    0.5000000000000E+020\n",
      " \n",
      "Integration of DOS up to Fermi level:      13.669507\n",
      "Renormalised integrated DOS         :      18.000000\n",
      " \n",
      "Solution found!\n",
      " \n",
      "Condition (n + acceptors) - (p + donors):   0.2810462392475E+007  cm^-3\n",
      " \n",
      "Results:\n",
      "--------\n",
      "SC Fermi level :      -0.0235166120932  (eV)\n",
      " \n",
      "Concentrations:\n",
      "n (electrons)  :   0.4105473387048E-023  cm^-3\n",
      "p (holes)      :   0.1365063556616E+020  cm^-3\n",
      "V_Ga           :   0.3285677364522E+020  cm^-3\n",
      "Ga_Sb          :   0.3429693676365E-084  cm^-3\n",
      " \n",
      "Breakdown of concentrations for each defect charge state:\n",
      "--------------------------------------------------------\n",
      "V_Ga           :   Charge   Concentration(cm^-3) % total\n",
      "               :     0.0     0.8145586213658E+017    0.25\n",
      "               :    -2.0     0.3087531778308E+020   93.97\n",
      "               :    -3.0     0.5931769173829E+000    0.00\n",
      "               :    -1.0     0.1900000000000E+019    5.78\n",
      "--------------------------------------------------------\n",
      "Ga_Sb          :   Charge   Concentration(cm^-3) % total\n",
      "               :     0.0     0.1236939790589E-091    0.00\n",
      "               :    -1.0     0.3429693550500E-084  100.00\n",
      "               :    -2.0     0.2171867419129E-093    0.00\n",
      " \n",
      "Concentrations of new fixed charge defects:\n",
      "Ga_i           :   0.5000000000000E+020  cm^-3\n",
      "\n"
     ]
    }
   ],
   "source": [
    "import os\n",
    "# os.chdir('example_inputs/')\n",
    "sc_fermi_exec = '~/bin/frozen-sc-fermi'\n",
    "print(os.popen(sc_fermi_exec).read())\n",
    "# os.chdir('..')"
   ]
  },
  {
   "cell_type": "code",
   "execution_count": 4,
   "metadata": {},
   "outputs": [],
   "source": [
    "# py-sc-fermi\n",
    "\n",
    "from py_sc_fermi.defect_system import DefectSystem\n",
    "from py_sc_fermi.defect_species import DefectSpecies\n",
    "from py_sc_fermi.defect_charge_state import FrozenDefectChargeState\n",
    "from py_sc_fermi.inputs import read_input_data\n",
    "from py_sc_fermi.inputs import read_unitcell_data, read_dos_data\n",
    "\n",
    "import numpy as np"
   ]
  },
  {
   "cell_type": "code",
   "execution_count": 5,
   "metadata": {},
   "outputs": [
    {
     "name": "stdout",
     "output_type": "stream",
     "text": [
      "Volume of cell: 57.78888409009906 A^3\n",
      "Found non-spin polarised system...\n",
      "Number of electrons in system: 18\n",
      "Energy gap of system: 0.8084 eV\n",
      "Temperature: 100.0 K\n",
      "Number of defect species: 2\n",
      "Number of frozen defects: 1\n",
      "Number of frozen charge states: 2\n",
      "Reading non-spin-polarised DOS\n",
      "Integration of DOS up to Fermi level: 13.669507297419017\n",
      "Renormalised integrated DOS        : 18.0\n",
      "converged: True\n",
      "residual: 1.9081958235744878e-17\n",
      "e_fermi_err: 1.242495689668388e-16\n",
      "e_fermi: -0.02351661209317868\n"
     ]
    },
    {
     "name": "stderr",
     "output_type": "stream",
     "text": [
      "/Users/bjm42/source/py-sc-fermi/py_sc_fermi/dos.py:84: RuntimeWarning: overflow encountered in exp\n",
      "  return dos / (1.0 + np.exp((e_fermi - edos)/kT))\n",
      "/Users/bjm42/source/py-sc-fermi/py_sc_fermi/dos.py:87: RuntimeWarning: overflow encountered in exp\n",
      "  return dos / (1.0 + np.exp((edos - e_fermi)/kT))\n"
     ]
    },
    {
     "data": {
      "text/plain": [
       "-0.02351661209317868"
      ]
     },
     "execution_count": 5,
     "metadata": {},
     "output_type": "execute_result"
    }
   ],
   "source": [
    "volume = read_unitcell_data(filename='./unitcell.dat')\n",
    "inputs = read_input_data(filename='./input-fermi-frozen.dat', frozen=True, volume=volume)\n",
    "dos = read_dos_data('./totdos.dat', nelect=inputs['nelect'], egap=inputs['egap'])\n",
    "ds = DefectSystem(defect_species=inputs['defect_species'],\n",
    "                  dos=dos, \n",
    "                  temperature=inputs['temperature'], \n",
    "                  volume=volume)\n",
    "ds.get_sc_fermi(verbose=True)"
   ]
  },
  {
   "cell_type": "code",
   "execution_count": 6,
   "metadata": {},
   "outputs": [
    {
     "name": "stdout",
     "output_type": "stream",
     "text": [
      "SC Fermi level :      -0.02351661209317868  (eV)\n",
      "\n",
      "Concentrations:\n",
      "n (electrons)  : 4.105473387045311e-24 cm^-3\n",
      "p (holes)      : 1.3650635566166997e+19 cm^-3\n",
      "V_Ga           : 3.2856773645220004e+19 cm^-3\n",
      "Ga_Sb          : 3.4296936763633826e-85 cm^-3\n",
      "Ga_i           : 5e+19 cm^-3\n",
      "\n",
      "Breakdown of concentrations for each defect charge state:\n",
      "---------------------------------------------------------\n",
      "V_Ga       : Charge Concentration(cm^-3) Total\n",
      "           :  0.0  8.145586e+16          0.25 \n",
      "           : -1  1.900000e+18          5.78  [fixed]\n",
      "           : -2.0  3.087532e+19          93.97 \n",
      "           : -3.0  5.931769e-01          0.00 \n",
      "---------------------------------------------------------\n",
      "Ga_Sb      : Charge Concentration(cm^-3) Total\n",
      "           :  0.0  1.236940e-92          0.00 \n",
      "           : -1.0  3.429694e-85          100.00 \n",
      "           : -2.0  2.171867e-94          0.00 \n",
      "---------------------------------------------------------\n",
      "Ga_i       : Charge Concentration(cm^-3) Total\n",
      "           :  1  5.000000e+19          100.00  [fixed]\n"
     ]
    }
   ],
   "source": [
    "ds.report()"
   ]
  },
  {
   "cell_type": "code",
   "execution_count": null,
   "metadata": {},
   "outputs": [],
   "source": []
  }
 ],
 "metadata": {
  "kernelspec": {
   "display_name": "Python 3",
   "language": "python",
   "name": "python3"
  },
  "language_info": {
   "codemirror_mode": {
    "name": "ipython",
    "version": 3
   },
   "file_extension": ".py",
   "mimetype": "text/x-python",
   "name": "python",
   "nbconvert_exporter": "python",
   "pygments_lexer": "ipython3",
   "version": "3.7.0"
  }
 },
 "nbformat": 4,
 "nbformat_minor": 2
}
